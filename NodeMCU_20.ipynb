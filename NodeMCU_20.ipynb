{
 "cells": [
  {
   "cell_type": "markdown",
   "metadata": {},
   "source": [
    "# NodeMCU_20 Data, Cleaning of Data"
   ]
  },
  {
   "cell_type": "markdown",
   "metadata": {},
   "source": [
    "# 1. Importing Libraries"
   ]
  },
  {
   "cell_type": "code",
   "execution_count": 1,
   "metadata": {},
   "outputs": [],
   "source": [
    "import numpy as np\n",
    "import pandas as pd\n",
    "import matplotlib.pyplot as plt"
   ]
  },
  {
   "cell_type": "markdown",
   "metadata": {},
   "source": [
    "# 2. Reading WiSenseData"
   ]
  },
  {
   "cell_type": "code",
   "execution_count": 2,
   "metadata": {},
   "outputs": [],
   "source": [
    "dff = pd.read_csv('NodeMCU_020.csv' , header = None)  #reading the Outdoor dataset"
   ]
  },
  {
   "cell_type": "code",
   "execution_count": 3,
   "metadata": {},
   "outputs": [
    {
     "data": {
      "text/plain": [
       "Int64Index([0, 1, 2, 3], dtype='int64')"
      ]
     },
     "execution_count": 3,
     "metadata": {},
     "output_type": "execute_result"
    }
   ],
   "source": [
    "#There are 4 columns\n",
    "dff.columns"
   ]
  },
  {
   "cell_type": "markdown",
   "metadata": {},
   "source": [
    "# 3. Renaming the Columns"
   ]
  },
  {
   "cell_type": "code",
   "execution_count": 4,
   "metadata": {},
   "outputs": [],
   "source": [
    "df = dff.rename(columns={0: 'datestamp', 1: 'NodeAdd' , 2: 'Temperature', 3: 'Humidity'})"
   ]
  },
  {
   "cell_type": "code",
   "execution_count": 5,
   "metadata": {},
   "outputs": [
    {
     "data": {
      "text/html": [
       "<div>\n",
       "<style scoped>\n",
       "    .dataframe tbody tr th:only-of-type {\n",
       "        vertical-align: middle;\n",
       "    }\n",
       "\n",
       "    .dataframe tbody tr th {\n",
       "        vertical-align: top;\n",
       "    }\n",
       "\n",
       "    .dataframe thead th {\n",
       "        text-align: right;\n",
       "    }\n",
       "</style>\n",
       "<table border=\"1\" class=\"dataframe\">\n",
       "  <thead>\n",
       "    <tr style=\"text-align: right;\">\n",
       "      <th></th>\n",
       "      <th>datestamp</th>\n",
       "      <th>NodeAdd</th>\n",
       "      <th>Temperature</th>\n",
       "      <th>Humidity</th>\n",
       "    </tr>\n",
       "  </thead>\n",
       "  <tbody>\n",
       "    <tr>\n",
       "      <th>0</th>\n",
       "      <td>2019-01-03 23:00:00</td>\n",
       "      <td>IoT/NodeMCU_20/dht22/hum</td>\n",
       "      <td>13</td>\n",
       "      <td>45</td>\n",
       "    </tr>\n",
       "    <tr>\n",
       "      <th>1</th>\n",
       "      <td>2019-01-03 23:03:07</td>\n",
       "      <td>IoT/NodeMCU_20/dht22/hum</td>\n",
       "      <td>13</td>\n",
       "      <td>45</td>\n",
       "    </tr>\n",
       "    <tr>\n",
       "      <th>2</th>\n",
       "      <td>2019-01-03 23:29:56</td>\n",
       "      <td>IoT/NodeMCU_20/dht22/hum</td>\n",
       "      <td>12</td>\n",
       "      <td>44</td>\n",
       "    </tr>\n",
       "    <tr>\n",
       "      <th>3</th>\n",
       "      <td>2019-01-03 23:30:04</td>\n",
       "      <td>IoT/NodeMCU_20/dht22/hum</td>\n",
       "      <td>12</td>\n",
       "      <td>44</td>\n",
       "    </tr>\n",
       "    <tr>\n",
       "      <th>4</th>\n",
       "      <td>2019-01-03 23:35:22</td>\n",
       "      <td>IoT/NodeMCU_20/dht22/hum</td>\n",
       "      <td>12</td>\n",
       "      <td>44</td>\n",
       "    </tr>\n",
       "  </tbody>\n",
       "</table>\n",
       "</div>"
      ],
      "text/plain": [
       "             datestamp                   NodeAdd  Temperature  Humidity\n",
       "0  2019-01-03 23:00:00  IoT/NodeMCU_20/dht22/hum           13        45\n",
       "1  2019-01-03 23:03:07  IoT/NodeMCU_20/dht22/hum           13        45\n",
       "2  2019-01-03 23:29:56  IoT/NodeMCU_20/dht22/hum           12        44\n",
       "3  2019-01-03 23:30:04  IoT/NodeMCU_20/dht22/hum           12        44\n",
       "4  2019-01-03 23:35:22  IoT/NodeMCU_20/dht22/hum           12        44"
      ]
     },
     "execution_count": 5,
     "metadata": {},
     "output_type": "execute_result"
    }
   ],
   "source": [
    "df.head() # First 5 rows"
   ]
  },
  {
   "cell_type": "code",
   "execution_count": 6,
   "metadata": {},
   "outputs": [
    {
     "name": "stdout",
     "output_type": "stream",
     "text": [
      "<class 'pandas.core.frame.DataFrame'>\n",
      "RangeIndex: 17555 entries, 0 to 17554\n",
      "Data columns (total 4 columns):\n",
      "datestamp      17555 non-null object\n",
      "NodeAdd        17555 non-null object\n",
      "Temperature    17555 non-null int64\n",
      "Humidity       17555 non-null int64\n",
      "dtypes: int64(2), object(2)\n",
      "memory usage: 548.7+ KB\n"
     ]
    }
   ],
   "source": [
    "# Getting some info about Dataset\n",
    "df.info()   "
   ]
  },
  {
   "cell_type": "code",
   "execution_count": 7,
   "metadata": {},
   "outputs": [],
   "source": [
    "#Copying the original dataset ('df') into data1\n",
    "data1 = df.copy() "
   ]
  },
  {
   "cell_type": "code",
   "execution_count": 8,
   "metadata": {},
   "outputs": [
    {
     "data": {
      "text/html": [
       "<div>\n",
       "<style scoped>\n",
       "    .dataframe tbody tr th:only-of-type {\n",
       "        vertical-align: middle;\n",
       "    }\n",
       "\n",
       "    .dataframe tbody tr th {\n",
       "        vertical-align: top;\n",
       "    }\n",
       "\n",
       "    .dataframe thead th {\n",
       "        text-align: right;\n",
       "    }\n",
       "</style>\n",
       "<table border=\"1\" class=\"dataframe\">\n",
       "  <thead>\n",
       "    <tr style=\"text-align: right;\">\n",
       "      <th></th>\n",
       "      <th>Temperature</th>\n",
       "      <th>Humidity</th>\n",
       "    </tr>\n",
       "  </thead>\n",
       "  <tbody>\n",
       "    <tr>\n",
       "      <th>count</th>\n",
       "      <td>17555.000000</td>\n",
       "      <td>17555.000000</td>\n",
       "    </tr>\n",
       "    <tr>\n",
       "      <th>mean</th>\n",
       "      <td>19.636286</td>\n",
       "      <td>47.717345</td>\n",
       "    </tr>\n",
       "    <tr>\n",
       "      <th>std</th>\n",
       "      <td>4.882688</td>\n",
       "      <td>10.094002</td>\n",
       "    </tr>\n",
       "    <tr>\n",
       "      <th>min</th>\n",
       "      <td>8.000000</td>\n",
       "      <td>9.000000</td>\n",
       "    </tr>\n",
       "    <tr>\n",
       "      <th>25%</th>\n",
       "      <td>15.000000</td>\n",
       "      <td>42.000000</td>\n",
       "    </tr>\n",
       "    <tr>\n",
       "      <th>50%</th>\n",
       "      <td>19.000000</td>\n",
       "      <td>49.000000</td>\n",
       "    </tr>\n",
       "    <tr>\n",
       "      <th>75%</th>\n",
       "      <td>24.000000</td>\n",
       "      <td>55.000000</td>\n",
       "    </tr>\n",
       "    <tr>\n",
       "      <th>max</th>\n",
       "      <td>32.000000</td>\n",
       "      <td>71.000000</td>\n",
       "    </tr>\n",
       "  </tbody>\n",
       "</table>\n",
       "</div>"
      ],
      "text/plain": [
       "        Temperature      Humidity\n",
       "count  17555.000000  17555.000000\n",
       "mean      19.636286     47.717345\n",
       "std        4.882688     10.094002\n",
       "min        8.000000      9.000000\n",
       "25%       15.000000     42.000000\n",
       "50%       19.000000     49.000000\n",
       "75%       24.000000     55.000000\n",
       "max       32.000000     71.000000"
      ]
     },
     "execution_count": 8,
     "metadata": {},
     "output_type": "execute_result"
    }
   ],
   "source": [
    "#Describing different features of DataSet\n",
    "data1.describe() "
   ]
  },
  {
   "cell_type": "code",
   "execution_count": 9,
   "metadata": {},
   "outputs": [
    {
     "data": {
      "text/html": [
       "<div>\n",
       "<style scoped>\n",
       "    .dataframe tbody tr th:only-of-type {\n",
       "        vertical-align: middle;\n",
       "    }\n",
       "\n",
       "    .dataframe tbody tr th {\n",
       "        vertical-align: top;\n",
       "    }\n",
       "\n",
       "    .dataframe thead th {\n",
       "        text-align: right;\n",
       "    }\n",
       "</style>\n",
       "<table border=\"1\" class=\"dataframe\">\n",
       "  <thead>\n",
       "    <tr style=\"text-align: right;\">\n",
       "      <th></th>\n",
       "      <th>datestamp</th>\n",
       "      <th>NodeAdd</th>\n",
       "      <th>Temperature</th>\n",
       "      <th>Humidity</th>\n",
       "    </tr>\n",
       "  </thead>\n",
       "  <tbody>\n",
       "    <tr>\n",
       "      <th>0</th>\n",
       "      <td>2019-01-03 23:00:00</td>\n",
       "      <td>IoT/NodeMCU_20/dht22/hum</td>\n",
       "      <td>13</td>\n",
       "      <td>45</td>\n",
       "    </tr>\n",
       "    <tr>\n",
       "      <th>1</th>\n",
       "      <td>2019-01-03 23:03:07</td>\n",
       "      <td>IoT/NodeMCU_20/dht22/hum</td>\n",
       "      <td>13</td>\n",
       "      <td>45</td>\n",
       "    </tr>\n",
       "    <tr>\n",
       "      <th>2</th>\n",
       "      <td>2019-01-03 23:29:56</td>\n",
       "      <td>IoT/NodeMCU_20/dht22/hum</td>\n",
       "      <td>12</td>\n",
       "      <td>44</td>\n",
       "    </tr>\n",
       "    <tr>\n",
       "      <th>3</th>\n",
       "      <td>2019-01-03 23:30:04</td>\n",
       "      <td>IoT/NodeMCU_20/dht22/hum</td>\n",
       "      <td>12</td>\n",
       "      <td>44</td>\n",
       "    </tr>\n",
       "    <tr>\n",
       "      <th>4</th>\n",
       "      <td>2019-01-03 23:35:22</td>\n",
       "      <td>IoT/NodeMCU_20/dht22/hum</td>\n",
       "      <td>12</td>\n",
       "      <td>44</td>\n",
       "    </tr>\n",
       "  </tbody>\n",
       "</table>\n",
       "</div>"
      ],
      "text/plain": [
       "             datestamp                   NodeAdd  Temperature  Humidity\n",
       "0  2019-01-03 23:00:00  IoT/NodeMCU_20/dht22/hum           13        45\n",
       "1  2019-01-03 23:03:07  IoT/NodeMCU_20/dht22/hum           13        45\n",
       "2  2019-01-03 23:29:56  IoT/NodeMCU_20/dht22/hum           12        44\n",
       "3  2019-01-03 23:30:04  IoT/NodeMCU_20/dht22/hum           12        44\n",
       "4  2019-01-03 23:35:22  IoT/NodeMCU_20/dht22/hum           12        44"
      ]
     },
     "execution_count": 9,
     "metadata": {},
     "output_type": "execute_result"
    }
   ],
   "source": [
    "#Printing first five rows of dataset\n",
    "data1.head()"
   ]
  },
  {
   "cell_type": "code",
   "execution_count": 10,
   "metadata": {},
   "outputs": [
    {
     "data": {
      "text/html": [
       "<div>\n",
       "<style scoped>\n",
       "    .dataframe tbody tr th:only-of-type {\n",
       "        vertical-align: middle;\n",
       "    }\n",
       "\n",
       "    .dataframe tbody tr th {\n",
       "        vertical-align: top;\n",
       "    }\n",
       "\n",
       "    .dataframe thead th {\n",
       "        text-align: right;\n",
       "    }\n",
       "</style>\n",
       "<table border=\"1\" class=\"dataframe\">\n",
       "  <thead>\n",
       "    <tr style=\"text-align: right;\">\n",
       "      <th></th>\n",
       "      <th>datestamp</th>\n",
       "      <th>Temperature</th>\n",
       "      <th>Humidity</th>\n",
       "    </tr>\n",
       "    <tr>\n",
       "      <th>NodeAdd</th>\n",
       "      <th></th>\n",
       "      <th></th>\n",
       "      <th></th>\n",
       "    </tr>\n",
       "  </thead>\n",
       "  <tbody>\n",
       "    <tr>\n",
       "      <th>IoT/NodeMCU_20/dht22/hum</th>\n",
       "      <td>68</td>\n",
       "      <td>68</td>\n",
       "      <td>68</td>\n",
       "    </tr>\n",
       "    <tr>\n",
       "      <th>NodeMCU_20</th>\n",
       "      <td>17487</td>\n",
       "      <td>17487</td>\n",
       "      <td>17487</td>\n",
       "    </tr>\n",
       "  </tbody>\n",
       "</table>\n",
       "</div>"
      ],
      "text/plain": [
       "                          datestamp  Temperature  Humidity\n",
       "NodeAdd                                                   \n",
       "IoT/NodeMCU_20/dht22/hum         68           68        68\n",
       "NodeMCU_20                    17487        17487     17487"
      ]
     },
     "execution_count": 10,
     "metadata": {},
     "output_type": "execute_result"
    }
   ],
   "source": [
    "#Getting total number of Unique Nodes from the DataSet\n",
    "data1.groupby('NodeAdd').count() "
   ]
  },
  {
   "cell_type": "code",
   "execution_count": 11,
   "metadata": {},
   "outputs": [],
   "source": [
    "#Converting datatype of 'timeStamp' to datetime type\n",
    "data1['datestamp'] = pd.to_datetime(data1['datestamp'])  "
   ]
  },
  {
   "cell_type": "code",
   "execution_count": 12,
   "metadata": {},
   "outputs": [
    {
     "name": "stdout",
     "output_type": "stream",
     "text": [
      "<class 'pandas.core.frame.DataFrame'>\n",
      "RangeIndex: 17555 entries, 0 to 17554\n",
      "Data columns (total 4 columns):\n",
      "datestamp      17555 non-null datetime64[ns]\n",
      "NodeAdd        17555 non-null object\n",
      "Temperature    17555 non-null int64\n",
      "Humidity       17555 non-null int64\n",
      "dtypes: datetime64[ns](1), int64(2), object(1)\n",
      "memory usage: 548.7+ KB\n"
     ]
    }
   ],
   "source": [
    "#Now we can se the data type of 'timeStamp', it is now datetime type\n",
    "data1.info()"
   ]
  },
  {
   "cell_type": "code",
   "execution_count": 13,
   "metadata": {},
   "outputs": [],
   "source": [
    "# Now We will create a new columns in our Dataset namely, 'temp1_changed'.\n",
    "# This column will contain value '1' if temperature1 is changed else it will contain 0\n",
    "data1['temp_changed'] = 0"
   ]
  },
  {
   "cell_type": "code",
   "execution_count": 14,
   "metadata": {},
   "outputs": [
    {
     "data": {
      "text/html": [
       "<div>\n",
       "<style scoped>\n",
       "    .dataframe tbody tr th:only-of-type {\n",
       "        vertical-align: middle;\n",
       "    }\n",
       "\n",
       "    .dataframe tbody tr th {\n",
       "        vertical-align: top;\n",
       "    }\n",
       "\n",
       "    .dataframe thead th {\n",
       "        text-align: right;\n",
       "    }\n",
       "</style>\n",
       "<table border=\"1\" class=\"dataframe\">\n",
       "  <thead>\n",
       "    <tr style=\"text-align: right;\">\n",
       "      <th></th>\n",
       "      <th>datestamp</th>\n",
       "      <th>NodeAdd</th>\n",
       "      <th>Temperature</th>\n",
       "      <th>Humidity</th>\n",
       "    </tr>\n",
       "    <tr>\n",
       "      <th>temp_changed</th>\n",
       "      <th></th>\n",
       "      <th></th>\n",
       "      <th></th>\n",
       "      <th></th>\n",
       "    </tr>\n",
       "  </thead>\n",
       "  <tbody>\n",
       "    <tr>\n",
       "      <th>0</th>\n",
       "      <td>17555</td>\n",
       "      <td>17555</td>\n",
       "      <td>17555</td>\n",
       "      <td>17555</td>\n",
       "    </tr>\n",
       "  </tbody>\n",
       "</table>\n",
       "</div>"
      ],
      "text/plain": [
       "              datestamp  NodeAdd  Temperature  Humidity\n",
       "temp_changed                                           \n",
       "0                 17555    17555        17555     17555"
      ]
     },
     "execution_count": 14,
     "metadata": {},
     "output_type": "execute_result"
    }
   ],
   "source": [
    "# Grouping the DataSet by 'temp3_changed'\n",
    "data1.groupby('temp_changed').count()"
   ]
  },
  {
   "cell_type": "code",
   "execution_count": 15,
   "metadata": {},
   "outputs": [
    {
     "name": "stdout",
     "output_type": "stream",
     "text": [
      "Checking Outlier for Temperature\n"
     ]
    },
    {
     "data": {
      "application/vnd.jupyter.widget-view+json": {
       "model_id": "8df076552f7a46dd82495b973028d9c5",
       "version_major": 2,
       "version_minor": 0
      },
      "text/plain": [
       "HBox(children=(IntProgress(value=0, description='Processing records for Outlier', max=2, style=ProgressStyle(d…"
      ]
     },
     "metadata": {},
     "output_type": "display_data"
    },
    {
     "name": "stdout",
     "output_type": "stream",
     "text": [
      "\n"
     ]
    }
   ],
   "source": [
    "#Checking Outliers\n",
    "'''\n",
    "# Following Scripts will deal with first value of each node if it is outlier\n",
    "\n",
    "1. We'll just check if first value of each node for a particular column is outlier (i.e temperature > 100 or temperature < 0), if it is outlier then we'll change its value to next row value\n",
    "\n",
    "'''\n",
    "\n",
    "\n",
    "from tqdm import tqdm_notebook\n",
    "\n",
    "nodes = data1['NodeAdd'].unique() # this line will create an array having total unique nodes\n",
    "\n",
    "print('Checking Outlier for Temperature')\n",
    "for n in tqdm_notebook(nodes , desc = 'Processing records for Outlier'):\n",
    "    for i in range(data1.shape[0] - 1):\n",
    "        if(data1.loc[i , 'NodeAdd'] == n):\n",
    "            val0 = float(data1.loc[i,'Temperature'])\n",
    "            if(val0 < 0 or val0 > 100):\n",
    "                data1.loc[i,'Temperature'] = data1.loc[i+1,'Temperature']\n",
    "                print('Outlier Found at', i , 'for node' , n)\n",
    "                break\n",
    "            else:\n",
    "                break"
   ]
  },
  {
   "cell_type": "markdown",
   "metadata": {},
   "source": [
    "# Following is the function to clean 'temperature1'"
   ]
  },
  {
   "cell_type": "markdown",
   "metadata": {},
   "source": [
    "# Logic behind cleaning the data\n",
    "\n",
    "Example: Cleaning temperature1\n",
    "\n",
    "To clean 'temperature1', we'll iterate through this column and select two values(rows) of a particular node and compare it.\n",
    "1. If there absolute difference is more than 10C and timeinterval is less than 30 minutes then we'll replace later value with previous one.\n",
    "2. If later value(row) is showing an Outlier and time interval is more than 30 minutes then will just replace it with 'NaN'.\n",
    "\n",
    "\n"
   ]
  },
  {
   "cell_type": "code",
   "execution_count": 22,
   "metadata": {},
   "outputs": [],
   "source": [
    "from tqdm import tqdm_notebook\n",
    "\n",
    "nodes = data1['NodeAdd'].unique() # this line will create an array having total unique nodes\n",
    "\n",
    "#Function to clean 'temperature'\n",
    "\n",
    "def temperature_clean(df):\n",
    "    for n in tqdm_notebook(nodes , desc = 'Processing records'):\n",
    "    #for n in nodes:\n",
    "        k = 0\n",
    "        for i in range(k , df.shape[0]-1):\n",
    "          if(df.loc[i, 'NodeAdd'] == n):\n",
    "            val0 = float(df.loc[i,'Temperature'])\n",
    "            time0 = (df.loc[i,'datestamp' ])\n",
    "            for j in range(i+1, df.shape[0]-1):\n",
    "              if(df.loc[j, 'NodeAdd'] == n):\n",
    "                val1 = float(df.loc[j , 'Temperature'])\n",
    "                time1 = (df.loc[j , 'datestamp'])\n",
    "                timedelta = time1 - time0\n",
    "                minutes = timedelta.total_seconds() / 60\n",
    "                \n",
    "                if (abs(val1 - val0) > 10 and minutes < 30.0):\n",
    "                  df.loc[j,'Temperature'] = val0\n",
    "                  df.loc[j, 'temp_changed'] = 1\n",
    "                  k = j\n",
    "                  break\n",
    "                elif(((val1) > 100 or (val1) < 0 ) and minutes > 30.0):\n",
    "                  df.loc[j,'Temperature'] = 'NaN'\n",
    "                  k = j\n",
    "                  break\n",
    "                else:\n",
    "                  k = j\n",
    "                  break\n",
    "                    \n",
    "                    \n",
    "                    "
   ]
  },
  {
   "cell_type": "code",
   "execution_count": 23,
   "metadata": {},
   "outputs": [
    {
     "name": "stdout",
     "output_type": "stream",
     "text": [
      "Cleaning Temperature\n"
     ]
    },
    {
     "data": {
      "application/vnd.jupyter.widget-view+json": {
       "model_id": "d8e1585b61a047b2b3477afd7bb56eef",
       "version_major": 2,
       "version_minor": 0
      },
      "text/plain": [
       "HBox(children=(IntProgress(value=0, description='Processing records', max=2, style=ProgressStyle(description_w…"
      ]
     },
     "metadata": {},
     "output_type": "display_data"
    },
    {
     "name": "stdout",
     "output_type": "stream",
     "text": [
      "\n"
     ]
    }
   ],
   "source": [
    "#Call Above function to clean the dataset\n",
    "print('Cleaning Temperature')\n",
    "temperature_clean(data1)"
   ]
  },
  {
   "cell_type": "code",
   "execution_count": 24,
   "metadata": {},
   "outputs": [
    {
     "data": {
      "text/html": [
       "<div>\n",
       "<style scoped>\n",
       "    .dataframe tbody tr th:only-of-type {\n",
       "        vertical-align: middle;\n",
       "    }\n",
       "\n",
       "    .dataframe tbody tr th {\n",
       "        vertical-align: top;\n",
       "    }\n",
       "\n",
       "    .dataframe thead th {\n",
       "        text-align: right;\n",
       "    }\n",
       "</style>\n",
       "<table border=\"1\" class=\"dataframe\">\n",
       "  <thead>\n",
       "    <tr style=\"text-align: right;\">\n",
       "      <th></th>\n",
       "      <th>datestamp</th>\n",
       "      <th>NodeAdd</th>\n",
       "      <th>Temperature</th>\n",
       "      <th>Humidity</th>\n",
       "    </tr>\n",
       "    <tr>\n",
       "      <th>temp_changed</th>\n",
       "      <th></th>\n",
       "      <th></th>\n",
       "      <th></th>\n",
       "      <th></th>\n",
       "    </tr>\n",
       "  </thead>\n",
       "  <tbody>\n",
       "    <tr>\n",
       "      <th>0</th>\n",
       "      <td>17555</td>\n",
       "      <td>17555</td>\n",
       "      <td>17555</td>\n",
       "      <td>17555</td>\n",
       "    </tr>\n",
       "  </tbody>\n",
       "</table>\n",
       "</div>"
      ],
      "text/plain": [
       "              datestamp  NodeAdd  Temperature  Humidity\n",
       "temp_changed                                           \n",
       "0                 17555    17555        17555     17555"
      ]
     },
     "execution_count": 24,
     "metadata": {},
     "output_type": "execute_result"
    }
   ],
   "source": [
    "data1.groupby('temp_changed').count()"
   ]
  },
  {
   "cell_type": "code",
   "execution_count": 25,
   "metadata": {},
   "outputs": [
    {
     "data": {
      "text/html": [
       "<div>\n",
       "<style scoped>\n",
       "    .dataframe tbody tr th:only-of-type {\n",
       "        vertical-align: middle;\n",
       "    }\n",
       "\n",
       "    .dataframe tbody tr th {\n",
       "        vertical-align: top;\n",
       "    }\n",
       "\n",
       "    .dataframe thead th {\n",
       "        text-align: right;\n",
       "    }\n",
       "</style>\n",
       "<table border=\"1\" class=\"dataframe\">\n",
       "  <thead>\n",
       "    <tr style=\"text-align: right;\">\n",
       "      <th></th>\n",
       "      <th>Temperature</th>\n",
       "      <th>Humidity</th>\n",
       "    </tr>\n",
       "  </thead>\n",
       "  <tbody>\n",
       "    <tr>\n",
       "      <th>count</th>\n",
       "      <td>17555.000000</td>\n",
       "      <td>17555.000000</td>\n",
       "    </tr>\n",
       "    <tr>\n",
       "      <th>mean</th>\n",
       "      <td>19.636286</td>\n",
       "      <td>47.717345</td>\n",
       "    </tr>\n",
       "    <tr>\n",
       "      <th>std</th>\n",
       "      <td>4.882688</td>\n",
       "      <td>10.094002</td>\n",
       "    </tr>\n",
       "    <tr>\n",
       "      <th>min</th>\n",
       "      <td>8.000000</td>\n",
       "      <td>9.000000</td>\n",
       "    </tr>\n",
       "    <tr>\n",
       "      <th>25%</th>\n",
       "      <td>15.000000</td>\n",
       "      <td>42.000000</td>\n",
       "    </tr>\n",
       "    <tr>\n",
       "      <th>50%</th>\n",
       "      <td>19.000000</td>\n",
       "      <td>49.000000</td>\n",
       "    </tr>\n",
       "    <tr>\n",
       "      <th>75%</th>\n",
       "      <td>24.000000</td>\n",
       "      <td>55.000000</td>\n",
       "    </tr>\n",
       "    <tr>\n",
       "      <th>max</th>\n",
       "      <td>32.000000</td>\n",
       "      <td>71.000000</td>\n",
       "    </tr>\n",
       "  </tbody>\n",
       "</table>\n",
       "</div>"
      ],
      "text/plain": [
       "        Temperature      Humidity\n",
       "count  17555.000000  17555.000000\n",
       "mean      19.636286     47.717345\n",
       "std        4.882688     10.094002\n",
       "min        8.000000      9.000000\n",
       "25%       15.000000     42.000000\n",
       "50%       19.000000     49.000000\n",
       "75%       24.000000     55.000000\n",
       "max       32.000000     71.000000"
      ]
     },
     "execution_count": 25,
     "metadata": {},
     "output_type": "execute_result"
    }
   ],
   "source": [
    "df.describe()"
   ]
  },
  {
   "cell_type": "code",
   "execution_count": null,
   "metadata": {},
   "outputs": [],
   "source": []
  }
 ],
 "metadata": {
  "kernelspec": {
   "display_name": "Python 3",
   "language": "python",
   "name": "python3"
  },
  "language_info": {
   "codemirror_mode": {
    "name": "ipython",
    "version": 3
   },
   "file_extension": ".py",
   "mimetype": "text/x-python",
   "name": "python",
   "nbconvert_exporter": "python",
   "pygments_lexer": "ipython3",
   "version": "3.7.3"
  }
 },
 "nbformat": 4,
 "nbformat_minor": 2
}
